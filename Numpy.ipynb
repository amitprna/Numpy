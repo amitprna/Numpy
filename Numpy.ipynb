{
 "cells": [
  {
   "cell_type": "code",
   "execution_count": 5,
   "id": "cf5da821",
   "metadata": {},
   "outputs": [],
   "source": [
    "import numpy as np"
   ]
  },
  {
   "cell_type": "code",
   "execution_count": 13,
   "id": "d2681f7f",
   "metadata": {},
   "outputs": [
    {
     "name": "stdout",
     "output_type": "stream",
     "text": [
      "[[  1   1   1   1   1]\n",
      " [ 16   8   4   2   1]\n",
      " [ 81  27   9   3   1]\n",
      " [256  64  16   4   1]\n",
      " [625 125  25   5   1]]\n"
     ]
    }
   ],
   "source": [
    "\n",
    "def vander(x,N=len(x),increasing=False):\n",
    "    list1 = []\n",
    "    if increasing:\n",
    "        list1.append([j**i for j in range(1,len(x)+1) for i  in range(N)])\n",
    "    else:\n",
    "        list1.append([j**(N-i-1) for j in range(1,len(x)+1) for i  in range(N)])\n",
    "    return np.array([list1]).reshape(len(x),N)\n",
    "\n",
    "arr = np.array([1, 2, 3, 4, 5])\n",
    "print(vander(arr))\n",
    "  "
   ]
  },
  {
   "cell_type": "code",
   "execution_count": 32,
   "id": "85c9d163",
   "metadata": {},
   "outputs": [],
   "source": [
    "def moving_avg(list1,k):\n",
    "    out =[]\n",
    "    for i in range(len(list1)-k+1):\n",
    "        sum = 0\n",
    "        for j in list1[i:k+i]:\n",
    "            sum = (j+sum)\n",
    "        out.append(round((sum/k),2))\n",
    "    return out\n",
    "\n",
    "\n",
    "    "
   ]
  },
  {
   "cell_type": "code",
   "execution_count": 33,
   "id": "fecb61b0",
   "metadata": {},
   "outputs": [
    {
     "name": "stdout",
     "output_type": "stream",
     "text": [
      "[5.0, 4.67, 5.67, 6.67, 9.67, 28.67, 49.33, 72.67, 84.0, 93.33, 116.33]\n"
     ]
    }
   ],
   "source": [
    "list1 = [3, 5, 7, 2, 8, 10, 11, 65, 72, 81, 99, 100, 150]\n",
    "print(moving_avg(list1,3))"
   ]
  },
  {
   "cell_type": "code",
   "execution_count": null,
   "id": "24956b21",
   "metadata": {},
   "outputs": [],
   "source": []
  }
 ],
 "metadata": {
  "kernelspec": {
   "display_name": "Python 3",
   "language": "python",
   "name": "python3"
  },
  "language_info": {
   "codemirror_mode": {
    "name": "ipython",
    "version": 3
   },
   "file_extension": ".py",
   "mimetype": "text/x-python",
   "name": "python",
   "nbconvert_exporter": "python",
   "pygments_lexer": "ipython3",
   "version": "3.8.8"
  }
 },
 "nbformat": 4,
 "nbformat_minor": 5
}
